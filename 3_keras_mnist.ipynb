{
  "nbformat": 4,
  "nbformat_minor": 0,
  "metadata": {
    "colab": {
      "name": "3_keras_mnist.ipynb",
      "provenance": [],
      "collapsed_sections": [],
      "include_colab_link": true
    },
    "kernelspec": {
      "name": "python3",
      "display_name": "Python 3"
    },
    "language_info": {
      "name": "python"
    },
    "accelerator": "GPU"
  },
  "cells": [
    {
      "cell_type": "markdown",
      "metadata": {
        "id": "view-in-github",
        "colab_type": "text"
      },
      "source": [
        "<a href=\"https://colab.research.google.com/github/wei89072708/AI-/blob/main/3_keras_mnist.ipynb\" target=\"_parent\"><img src=\"https://colab.research.google.com/assets/colab-badge.svg\" alt=\"Open In Colab\"/></a>"
      ]
    },
    {
      "cell_type": "markdown",
      "source": [
        "# **Keras** 2D平面訓練模型 數字"
      ],
      "metadata": {
        "id": "nBY0R-mkoqPP"
      }
    },
    {
      "cell_type": "code",
      "execution_count": 4,
      "metadata": {
        "id": "-jvWEQqBmA_s"
      },
      "outputs": [],
      "source": [
        "from tensorflow import keras\n",
        "from keras.models import Sequential\n",
        "from keras.layers import Dense, Flatten\n",
        "model=Sequential()\n",
        "model.add(Flatten())\n",
        "model.add(Dense(32, activation='relu', input_dim=784))  #模型第一層 其輸出數組的尺寸為32 模型尺寸為28*28\n",
        "model.add(Dense(10, activation='sigmoid')) \n",
        "model.compile(optimizer='rmsprop', loss='sparse_categorical_crossentropy', metrics=['accuracy'])"
      ]
    },
    {
      "cell_type": "code",
      "source": [
        "mnist=keras.datasets.mnist\n",
        "(train_data, train_label), (test_data, test_label) = mnist.load_data()"
      ],
      "metadata": {
        "id": "4eM5EOSr4DLB",
        "colab": {
          "base_uri": "https://localhost:8080/"
        },
        "outputId": "9ed88eca-d80c-487a-c564-8bcf82267ec2"
      },
      "execution_count": 5,
      "outputs": [
        {
          "output_type": "stream",
          "name": "stdout",
          "text": [
            "Downloading data from https://storage.googleapis.com/tensorflow/tf-keras-datasets/mnist.npz\n",
            "11493376/11490434 [==============================] - 0s 0us/step\n",
            "11501568/11490434 [==============================] - 0s 0us/step\n"
          ]
        }
      ]
    },
    {
      "cell_type": "code",
      "source": [
        "print(type(train_data))\n",
        "print(train_data.shape)\n",
        "print(type(train_label))\n",
        "print(train_label.shape)\n",
        "print(test_data.shape)\n",
        "print(test_label.shape)"
      ],
      "metadata": {
        "colab": {
          "base_uri": "https://localhost:8080/"
        },
        "id": "B-ObCSggOGht",
        "outputId": "f787dc01-0d00-4156-b0de-32a97d0092bb"
      },
      "execution_count": 6,
      "outputs": [
        {
          "output_type": "stream",
          "name": "stdout",
          "text": [
            "<class 'numpy.ndarray'>\n",
            "(60000, 28, 28)\n",
            "<class 'numpy.ndarray'>\n",
            "(60000,)\n",
            "(10000, 28, 28)\n",
            "(10000,)\n"
          ]
        }
      ]
    },
    {
      "cell_type": "code",
      "source": [
        "print(train_label[5])\n",
        "print(train_data[5])"
      ],
      "metadata": {
        "colab": {
          "base_uri": "https://localhost:8080/"
        },
        "id": "Ohr3lOssOKsI",
        "outputId": "dd4444c1-e857-457a-df00-12b79d7b8cf5"
      },
      "execution_count": 17,
      "outputs": [
        {
          "output_type": "stream",
          "name": "stdout",
          "text": [
            "2\n",
            "[[  0   0   0   0   0   0   0   0   0   0   0   0   0   0   0   0   0   0\n",
            "    0   0   0   0   0   0   0   0   0   0]\n",
            " [  0   0   0   0   0   0   0   0   0   0   0   0   0   0   0   0   0   0\n",
            "    0   0   0   0   0   0   0   0   0   0]\n",
            " [  0   0   0   0   0   0   0   0   0   0   0   0   0   0   0   0   0   0\n",
            "    0   0   0   0   0   0   0   0   0   0]\n",
            " [  0   0   0   0   0   0   0   0   0   0   0   0   0   0   0   0   0   0\n",
            "    0   0   0   0   0   0   0   0   0   0]\n",
            " [  0   0   0   0   0   0   0   0   0   0   0   0   0   0   0   0   0   0\n",
            "    0   0   0   0   0   0   0   0   0   0]\n",
            " [  0   0   0   0   0   0   0   0   0   0   0   0   0   0   0  13  25 100\n",
            "  122   7   0   0   0   0   0   0   0   0]\n",
            " [  0   0   0   0   0   0   0   0   0   0   0   0   0  33 151 208 252 252\n",
            "  252 146   0   0   0   0   0   0   0   0]\n",
            " [  0   0   0   0   0   0   0   0   0   0   0  40 152 244 252 253 224 211\n",
            "  252 232  40   0   0   0   0   0   0   0]\n",
            " [  0   0   0   0   0   0   0   0   0  15 152 239 252 252 252 216  31  37\n",
            "  252 252  60   0   0   0   0   0   0   0]\n",
            " [  0   0   0   0   0   0   0   0   0  96 252 252 252 252 217  29   0  37\n",
            "  252 252  60   0   0   0   0   0   0   0]\n",
            " [  0   0   0   0   0   0   0   0   0 181 252 252 220 167  30   0   0  77\n",
            "  252 252  60   0   0   0   0   0   0   0]\n",
            " [  0   0   0   0   0   0   0   0   0  26 128  58  22   0   0   0   0 100\n",
            "  252 252  60   0   0   0   0   0   0   0]\n",
            " [  0   0   0   0   0   0   0   0   0   0   0   0   0   0   0   0   0 157\n",
            "  252 252  60   0   0   0   0   0   0   0]\n",
            " [  0   0   0   0   0   0   0   0   0   0   0   0   0 110 121 122 121 202\n",
            "  252 194   3   0   0   0   0   0   0   0]\n",
            " [  0   0   0   0   0   0   0   0   0   0  10  53 179 253 253 255 253 253\n",
            "  228  35   0   0   0   0   0   0   0   0]\n",
            " [  0   0   0   0   0   0   0   0   5  54 227 252 243 228 170 242 252 252\n",
            "  231 117   6   0   0   0   0   0   0   0]\n",
            " [  0   0   0   0   0   0   0   6  78 252 252 125  59   0  18 208 252 252\n",
            "  252 252  87   7   0   0   0   0   0   0]\n",
            " [  0   0   0   0   0   0   5 135 252 252 180  16   0  21 203 253 247 129\n",
            "  173 252 252 184  66  49  49   0   0   0]\n",
            " [  0   0   0   0   0   3 136 252 241 106  17   0  53 200 252 216  65   0\n",
            "   14  72 163 241 252 252 223   0   0   0]\n",
            " [  0   0   0   0   0 105 252 242  88  18  73 170 244 252 126  29   0   0\n",
            "    0   0   0  89 180 180  37   0   0   0]\n",
            " [  0   0   0   0   0 231 252 245 205 216 252 252 252 124   3   0   0   0\n",
            "    0   0   0   0   0   0   0   0   0   0]\n",
            " [  0   0   0   0   0 207 252 252 252 252 178 116  36   4   0   0   0   0\n",
            "    0   0   0   0   0   0   0   0   0   0]\n",
            " [  0   0   0   0   0  13  93 143 121  23   6   0   0   0   0   0   0   0\n",
            "    0   0   0   0   0   0   0   0   0   0]\n",
            " [  0   0   0   0   0   0   0   0   0   0   0   0   0   0   0   0   0   0\n",
            "    0   0   0   0   0   0   0   0   0   0]\n",
            " [  0   0   0   0   0   0   0   0   0   0   0   0   0   0   0   0   0   0\n",
            "    0   0   0   0   0   0   0   0   0   0]\n",
            " [  0   0   0   0   0   0   0   0   0   0   0   0   0   0   0   0   0   0\n",
            "    0   0   0   0   0   0   0   0   0   0]\n",
            " [  0   0   0   0   0   0   0   0   0   0   0   0   0   0   0   0   0   0\n",
            "    0   0   0   0   0   0   0   0   0   0]\n",
            " [  0   0   0   0   0   0   0   0   0   0   0   0   0   0   0   0   0   0\n",
            "    0   0   0   0   0   0   0   0   0   0]]\n"
          ]
        }
      ]
    },
    {
      "cell_type": "code",
      "source": [
        "import matplotlib.pyplot as plt\n",
        "plt.imshow(train_data[5], cmap='binary')  #可自行輸入來觀看訓練出來的模型\n",
        "plt.show()"
      ],
      "metadata": {
        "colab": {
          "base_uri": "https://localhost:8080/",
          "height": 265
        },
        "id": "hjFM-KB_OMqR",
        "outputId": "65edcf21-0f6f-487d-93fd-2f2291244db0"
      },
      "execution_count": 16,
      "outputs": [
        {
          "output_type": "display_data",
          "data": {
            "text/plain": [
              "<Figure size 432x288 with 1 Axes>"
            ],
            "image/png": "[encoded data removed]"
          },
          "metadata": {
            "needs_background": "light"
          }
        }
      ]
    },
    {
      "cell_type": "code",
      "source": [
        "model.fit(train_data,train_label,epochs=20,batch_size=512) #訓練模型 以512個樣本為一個進行訓練"
      ],
      "metadata": {
        "id": "UFCQb8bgy3nU",
        "colab": {
          "base_uri": "https://localhost:8080/"
        },
        "outputId": "62bd9d9a-05cf-458b-eb26-4ac5abb6579d"
      },
      "execution_count": 9,
      "outputs": [
        {
          "output_type": "stream",
          "name": "stdout",
          "text": [
            "Epoch 1/20\n",
            "118/118 [==============================] - 3s 3ms/step - loss: 6.6897 - accuracy: 0.4162\n",
            "Epoch 2/20\n",
            "118/118 [==============================] - 0s 3ms/step - loss: 1.0574 - accuracy: 0.7213\n",
            "Epoch 3/20\n",
            "118/118 [==============================] - 0s 3ms/step - loss: 0.6915 - accuracy: 0.8372\n",
            "Epoch 4/20\n",
            "118/118 [==============================] - 0s 3ms/step - loss: 0.5226 - accuracy: 0.8758\n",
            "Epoch 5/20\n",
            "118/118 [==============================] - 0s 3ms/step - loss: 0.4393 - accuracy: 0.8939\n",
            "Epoch 6/20\n",
            "118/118 [==============================] - 0s 3ms/step - loss: 0.3816 - accuracy: 0.9034\n",
            "Epoch 7/20\n",
            "118/118 [==============================] - 0s 3ms/step - loss: 0.3371 - accuracy: 0.9135\n",
            "Epoch 8/20\n",
            "118/118 [==============================] - 0s 3ms/step - loss: 0.3066 - accuracy: 0.9193\n",
            "Epoch 9/20\n",
            "118/118 [==============================] - 0s 3ms/step - loss: 0.2866 - accuracy: 0.9229\n",
            "Epoch 10/20\n",
            "118/118 [==============================] - 0s 3ms/step - loss: 0.2621 - accuracy: 0.9284\n",
            "Epoch 11/20\n",
            "118/118 [==============================] - 0s 3ms/step - loss: 0.2464 - accuracy: 0.9323\n",
            "Epoch 12/20\n",
            "118/118 [==============================] - 0s 3ms/step - loss: 0.2354 - accuracy: 0.9348\n",
            "Epoch 13/20\n",
            "118/118 [==============================] - 0s 3ms/step - loss: 0.2224 - accuracy: 0.9376\n",
            "Epoch 14/20\n",
            "118/118 [==============================] - 0s 3ms/step - loss: 0.2140 - accuracy: 0.9409\n",
            "Epoch 15/20\n",
            "118/118 [==============================] - 0s 3ms/step - loss: 0.2074 - accuracy: 0.9429\n",
            "Epoch 16/20\n",
            "118/118 [==============================] - 0s 3ms/step - loss: 0.1968 - accuracy: 0.9449\n",
            "Epoch 17/20\n",
            "118/118 [==============================] - 0s 3ms/step - loss: 0.1933 - accuracy: 0.9461\n",
            "Epoch 18/20\n",
            "118/118 [==============================] - 0s 3ms/step - loss: 0.1853 - accuracy: 0.9474\n",
            "Epoch 19/20\n",
            "118/118 [==============================] - 0s 3ms/step - loss: 0.1798 - accuracy: 0.9484\n",
            "Epoch 20/20\n",
            "118/118 [==============================] - 0s 3ms/step - loss: 0.1756 - accuracy: 0.9506\n"
          ]
        },
        {
          "output_type": "execute_result",
          "data": {
            "text/plain": [
              "<keras.callbacks.History at 0x7fd92c024d90>"
            ]
          },
          "metadata": {},
          "execution_count": 9
        }
      ]
    },
    {
      "cell_type": "code",
      "source": [
        "score=model.evaluate(test_data, test_label)\n",
        "print(score[1])"
      ],
      "metadata": {
        "id": "iPThoYwsA1YC",
        "colab": {
          "base_uri": "https://localhost:8080/"
        },
        "outputId": "6be6391c-1764-4acb-c3e5-1b90eefb95cd"
      },
      "execution_count": 10,
      "outputs": [
        {
          "output_type": "stream",
          "name": "stdout",
          "text": [
            "313/313 [==============================] - 1s 2ms/step - loss: 0.2980 - accuracy: 0.9406\n",
            "0.9405999779701233\n"
          ]
        }
      ]
    }
  ]
}