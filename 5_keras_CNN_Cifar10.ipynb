{
  "nbformat": 4,
  "nbformat_minor": 0,
  "metadata": {
    "colab": {
      "name": "5.keras_CNN_Cifar10.ipynb",
      "provenance": [],
      "toc_visible": true,
      "include_colab_link": true
    },
    "kernelspec": {
      "name": "python3",
      "display_name": "Python 3"
    },
    "language_info": {
      "name": "python"
    },
    "accelerator": "GPU"
  },
  "cells": [
    {
      "cell_type": "markdown",
      "metadata": {
        "id": "view-in-github",
        "colab_type": "text"
      },
      "source": [
        "<a href=\"https://colab.research.google.com/github/wei89072708/AI-/blob/main/5_keras_CNN_Cifar10.ipynb\" target=\"_parent\"><img src=\"https://colab.research.google.com/assets/colab-badge.svg\" alt=\"Open In Colab\"/></a>"
      ]
    },
    {
      "cell_type": "code",
      "source": [
        "from tensorflow import keras\n",
        "from keras.models import Sequential\n",
        "from keras.layers import Dense, Conv2D, MaxPooling2D, Flatten\n",
        "model=Sequential()\n",
        "model.add(Conv2D(filters=64, kernel_size=(5, 5), input_shape=(32, 32, 3), activation='relu'))\n",
        "model.add(Conv2D(filters=64, kernel_size=(5, 5), activation='relu'))\n",
        "model.add(MaxPooling2D(pool_size=2))\n",
        "model.add(Conv2D(filters=128, kernel_size=(5, 5), activation='relu'))\n",
        "model.add(Conv2D(filters=128, kernel_size=(5, 5), activation='relu'))\n",
        "model.add(MaxPooling2D(pool_size=2))\n",
        "model.add(Flatten())\n",
        "model.add(Dense(10, activation='softmax'))\n",
        "model.summary()\n",
        "model.compile(optimizer='rmsprop', loss='categorical_crossentropy', metrics=['accuracy'])"
      ],
      "metadata": {
        "colab": {
          "base_uri": "https://localhost:8080/"
        },
        "id": "LQ_HZ-tK8L-C",
        "outputId": "795f9e60-c4a2-400f-8179-d7e927918211"
      },
      "execution_count": 1,
      "outputs": [
        {
          "output_type": "stream",
          "name": "stdout",
          "text": [
            "Model: \"sequential\"\n",
            "_________________________________________________________________\n",
            " Layer (type)                Output Shape              Param #   \n",
            "=================================================================\n",
            " conv2d (Conv2D)             (None, 28, 28, 64)        4864      \n",
            "                                                                 \n",
            " conv2d_1 (Conv2D)           (None, 24, 24, 64)        102464    \n",
            "                                                                 \n",
            " max_pooling2d (MaxPooling2D  (None, 12, 12, 64)       0         \n",
            " )                                                               \n",
            "                                                                 \n",
            " conv2d_2 (Conv2D)           (None, 8, 8, 128)         204928    \n",
            "                                                                 \n",
            " conv2d_3 (Conv2D)           (None, 4, 4, 128)         409728    \n",
            "                                                                 \n",
            " max_pooling2d_1 (MaxPooling  (None, 2, 2, 128)        0         \n",
            " 2D)                                                             \n",
            "                                                                 \n",
            " flatten (Flatten)           (None, 512)               0         \n",
            "                                                                 \n",
            " dense (Dense)               (None, 10)                5130      \n",
            "                                                                 \n",
            "=================================================================\n",
            "Total params: 727,114\n",
            "Trainable params: 727,114\n",
            "Non-trainable params: 0\n",
            "_________________________________________________________________\n"
          ]
        }
      ]
    },
    {
      "cell_type": "code",
      "source": [
        "cifar10=keras.datasets.cifar10\n",
        "(train_data, train_label), (test_data, test_label) = cifar10.load_data()\n",
        "train_label_original=train_label\n",
        "train_label = keras.utils.to_categorical(train_label)\n",
        "test_label = keras.utils.to_categorical(test_label)"
      ],
      "metadata": {
        "id": "4eM5EOSr4DLB",
        "colab": {
          "base_uri": "https://localhost:8080/"
        },
        "outputId": "740c9945-c857-4b76-dfc3-45062fbe715c"
      },
      "execution_count": 2,
      "outputs": [
        {
          "output_type": "stream",
          "name": "stdout",
          "text": [
            "Downloading data from https://www.cs.toronto.edu/~kriz/cifar-10-python.tar.gz\n",
            "170500096/170498071 [==============================] - 3s 0us/step\n",
            "170508288/170498071 [==============================] - 3s 0us/step\n"
          ]
        }
      ]
    },
    {
      "cell_type": "code",
      "source": [
        "import matplotlib.pyplot as plt\n",
        "category=['airplane','automobile','bird','cat','deer','dog','frog','horse','ship','truck']\n",
        "plt.imshow(train_data[0])\n",
        "plt.title(category[int(train_label_original[0])])\n",
        "plt.show()\n",
        "print(train_label_original[0])"
      ],
      "metadata": {
        "colab": {
          "base_uri": "https://localhost:8080/",
          "height": 298
        },
        "id": "4j8cPTbDahQr",
        "outputId": "cf76fb54-5a03-486c-d208-31297e1b5aa6"
      },
      "execution_count": 5,
      "outputs": [
        {
          "output_type": "display_data",
          "data": {
            "text/plain": [
              "<Figure size 432x288 with 1 Axes>"
            ],
            "image/png": "[encoded data removed]"
          },
          "metadata": {
            "needs_background": "light"
          }
        },
        {
          "output_type": "stream",
          "name": "stdout",
          "text": [
            "[6]\n"
          ]
        }
      ]
    },
    {
      "cell_type": "code",
      "source": [
        "train_history=model.fit(train_data,train_label,epochs=30,batch_size=512)\n"
      ],
      "metadata": {
        "id": "UFCQb8bgy3nU",
        "colab": {
          "base_uri": "https://localhost:8080/"
        },
        "outputId": "da95e38f-6d2f-4d2a-92c2-9ecfa289a52d"
      },
      "execution_count": 6,
      "outputs": [
        {
          "output_type": "stream",
          "name": "stdout",
          "text": [
            "Epoch 1/30\n",
            "98/98 [==============================] - 19s 58ms/step - loss: 13.3341 - accuracy: 0.1345\n",
            "Epoch 2/30\n",
            "98/98 [==============================] - 5s 49ms/step - loss: 2.5401 - accuracy: 0.1556\n",
            "Epoch 3/30\n",
            "98/98 [==============================] - 5s 50ms/step - loss: 2.2851 - accuracy: 0.2077\n",
            "Epoch 4/30\n",
            "98/98 [==============================] - 5s 50ms/step - loss: 2.1316 - accuracy: 0.2717\n",
            "Epoch 5/30\n",
            "98/98 [==============================] - 5s 50ms/step - loss: 1.9459 - accuracy: 0.3225\n",
            "Epoch 6/30\n",
            "98/98 [==============================] - 5s 49ms/step - loss: 1.7620 - accuracy: 0.3862\n",
            "Epoch 7/30\n",
            "98/98 [==============================] - 5s 49ms/step - loss: 1.6722 - accuracy: 0.4265\n",
            "Epoch 8/30\n",
            "98/98 [==============================] - 5s 49ms/step - loss: 1.5264 - accuracy: 0.4753\n",
            "Epoch 9/30\n",
            "98/98 [==============================] - 5s 48ms/step - loss: 1.4593 - accuracy: 0.5048\n",
            "Epoch 10/30\n",
            "98/98 [==============================] - 5s 49ms/step - loss: 1.3099 - accuracy: 0.5539\n",
            "Epoch 11/30\n",
            "98/98 [==============================] - 5s 48ms/step - loss: 1.2205 - accuracy: 0.5852\n",
            "Epoch 12/30\n",
            "98/98 [==============================] - 5s 48ms/step - loss: 1.0710 - accuracy: 0.6348\n",
            "Epoch 13/30\n",
            "98/98 [==============================] - 5s 48ms/step - loss: 0.9868 - accuracy: 0.6634\n",
            "Epoch 14/30\n",
            "98/98 [==============================] - 5s 48ms/step - loss: 0.8862 - accuracy: 0.6978\n",
            "Epoch 15/30\n",
            "98/98 [==============================] - 5s 49ms/step - loss: 0.7702 - accuracy: 0.7364\n",
            "Epoch 16/30\n",
            "98/98 [==============================] - 5s 49ms/step - loss: 0.6816 - accuracy: 0.7674\n",
            "Epoch 17/30\n",
            "98/98 [==============================] - 5s 49ms/step - loss: 0.5997 - accuracy: 0.7982\n",
            "Epoch 18/30\n",
            "98/98 [==============================] - 5s 49ms/step - loss: 0.5000 - accuracy: 0.8317\n",
            "Epoch 19/30\n",
            "98/98 [==============================] - 5s 49ms/step - loss: 0.4519 - accuracy: 0.8491\n",
            "Epoch 20/30\n",
            "98/98 [==============================] - 5s 49ms/step - loss: 0.3883 - accuracy: 0.8711\n",
            "Epoch 21/30\n",
            "98/98 [==============================] - 5s 49ms/step - loss: 0.3693 - accuracy: 0.8794\n",
            "Epoch 22/30\n",
            "98/98 [==============================] - 5s 49ms/step - loss: 0.3207 - accuracy: 0.8945\n",
            "Epoch 23/30\n",
            "98/98 [==============================] - 5s 49ms/step - loss: 0.2929 - accuracy: 0.9060\n",
            "Epoch 24/30\n",
            "98/98 [==============================] - 5s 49ms/step - loss: 0.2948 - accuracy: 0.9104\n",
            "Epoch 25/30\n",
            "98/98 [==============================] - 5s 49ms/step - loss: 0.2584 - accuracy: 0.9223\n",
            "Epoch 26/30\n",
            "98/98 [==============================] - 5s 49ms/step - loss: 0.2492 - accuracy: 0.9228\n",
            "Epoch 27/30\n",
            "98/98 [==============================] - 5s 49ms/step - loss: 0.2508 - accuracy: 0.9266\n",
            "Epoch 28/30\n",
            "98/98 [==============================] - 5s 49ms/step - loss: 0.2396 - accuracy: 0.9320\n",
            "Epoch 29/30\n",
            "98/98 [==============================] - 5s 49ms/step - loss: 0.2103 - accuracy: 0.9379\n",
            "Epoch 30/30\n",
            "98/98 [==============================] - 5s 49ms/step - loss: 0.2069 - accuracy: 0.9381\n"
          ]
        }
      ]
    },
    {
      "cell_type": "code",
      "source": [
        "score=model.evaluate(test_data, test_label)\n",
        "print(score[1])"
      ],
      "metadata": {
        "id": "SC2VW7yl87F-",
        "colab": {
          "base_uri": "https://localhost:8080/"
        },
        "outputId": "7dbb26c7-7e28-4706-fa09-374350fc8153"
      },
      "execution_count": 7,
      "outputs": [
        {
          "output_type": "stream",
          "name": "stdout",
          "text": [
            "313/313 [==============================] - 2s 4ms/step - loss: 3.3921 - accuracy: 0.5796\n",
            "0.5795999765396118\n"
          ]
        }
      ]
    },
    {
      "cell_type": "code",
      "source": [
        "#繪製正確性與損失歷史圖\n",
        "import matplotlib.pyplot as plt\n",
        "import numpy as np\n",
        "\n",
        "def show_train_history(train_history, train):\n",
        "    plt.plot(train_history.history[train])\n",
        "    plt.title('Train History')\n",
        "    plt.ylabel(train)\n",
        "    plt.xlabel('Epoch')\n",
        "    plt.legend(['train'], loc='center right')\n",
        "    plt.show()\n",
        "\n",
        "show_train_history(train_history, 'accuracy')\n",
        "show_train_history(train_history, 'loss')"
      ],
      "metadata": {
        "colab": {
          "base_uri": "https://localhost:8080/",
          "height": 573
        },
        "id": "YycOQ_auS_1s",
        "outputId": "a44bb8de-c211-4ca0-95f6-fb525d0f97d4"
      },
      "execution_count": 8,
      "outputs": [
        {
          "output_type": "display_data",
          "data": {
            "text/plain": [
              "<Figure size 432x288 with 1 Axes>"
            ],
            "image/png": "[encoded data removed]"
          },
          "metadata": {
            "needs_background": "light"
          }
        },
        {
          "output_type": "display_data",
          "data": {
            "text/plain": [
              "<Figure size 432x288 with 1 Axes>"
            ],
            "image/png": "[encoded data removed]"
          },
          "metadata": {
            "needs_background": "light"
          }
        }
      ]
    }
  ]
}