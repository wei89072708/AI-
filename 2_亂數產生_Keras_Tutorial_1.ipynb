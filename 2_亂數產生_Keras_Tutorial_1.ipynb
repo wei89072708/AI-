{
  "nbformat": 4,
  "nbformat_minor": 0,
  "metadata": {
    "colab": {
      "name": "2.亂數產生_Keras_Tutorial_1.ipynb",
      "provenance": [],
      "collapsed_sections": [],
      "include_colab_link": true
    },
    "kernelspec": {
      "name": "python3",
      "display_name": "Python 3"
    },
    "accelerator": "GPU"
  },
  "cells": [
    {
      "cell_type": "markdown",
      "metadata": {
        "id": "view-in-github",
        "colab_type": "text"
      },
      "source": [
        "<a href=\"https://colab.research.google.com/github/wei89072708/AI-/blob/main/2_%E4%BA%82%E6%95%B8%E7%94%A2%E7%94%9F_Keras_Tutorial_1.ipynb\" target=\"_parent\"><img src=\"https://colab.research.google.com/assets/colab-badge.svg\" alt=\"Open In Colab\"/></a>"
      ]
    },
    {
      "cell_type": "markdown",
      "metadata": {
        "id": "iWI0tTBsGUK-"
      },
      "source": [
        "# Keras深度學習初體驗1\n",
        "利用keras套件，產生一個32個神經元的深度學習模型進行訓練\n"
      ]
    },
    {
      "cell_type": "code",
      "metadata": {
        "id": "tCggV4LJGPHI",
        "colab": {
          "base_uri": "https://localhost:8080/"
        },
        "outputId": "3e2cb2e2-a654-4349-bc10-1ffb097f8f4e"
      },
      "source": [
        "from tensorflow import keras\n",
        "from keras.models import Sequential\n",
        "from keras.layers import Dense\n",
        "\n",
        "import numpy as np\n",
        "data = np.random.random((1000, 10)) #隨機產生1000筆資料，每筆資料包含十個float數字\n",
        "labels = np.random.randint(2, size=(1000, 1)) #隨機產生1000筆資料，每筆資料上限為2(意思就是0 或 1)\n",
        "print(np.shape(data))\n",
        "print(data[0])\n",
        "print(np.shape(labels))\n",
        "print(labels[0])\n",
        "\n",
        "model = Sequential()\n",
        "model.add(Dense(32, activation='relu', input_dim=10))\n",
        "model.add(Dense(1, activation='sigmoid'))\n",
        "model.compile(optimizer='rmsprop', loss='binary_crossentropy', metrics=['accuracy'])\n",
        "\n",
        "model.fit(data, labels, epochs=10, batch_size=32)\n",
        "\n",
        "score=model.evaluate(data, labels)\n",
        "print(score[1])"
      ],
      "execution_count": 3,
      "outputs": [
        {
          "output_type": "stream",
          "name": "stdout",
          "text": [
            "(1000, 10)\n",
            "[0.4812996  0.0400498  0.15735613 0.91069776 0.35586719 0.2340602\n",
            " 0.74417617 0.96603286 0.5185562  0.04735444]\n",
            "(1000, 1)\n",
            "[1]\n",
            "Epoch 1/10\n",
            "32/32 [==============================] - 4s 3ms/step - loss: 0.7088 - accuracy: 0.5000\n",
            "Epoch 2/10\n",
            "32/32 [==============================] - 0s 3ms/step - loss: 0.6980 - accuracy: 0.4840\n",
            "Epoch 3/10\n",
            "32/32 [==============================] - 0s 3ms/step - loss: 0.6971 - accuracy: 0.4870\n",
            "Epoch 4/10\n",
            "32/32 [==============================] - 0s 3ms/step - loss: 0.6966 - accuracy: 0.4780\n",
            "Epoch 5/10\n",
            "32/32 [==============================] - 0s 4ms/step - loss: 0.6959 - accuracy: 0.4950\n",
            "Epoch 6/10\n",
            "32/32 [==============================] - 0s 3ms/step - loss: 0.6954 - accuracy: 0.4930\n",
            "Epoch 7/10\n",
            "32/32 [==============================] - 0s 3ms/step - loss: 0.6946 - accuracy: 0.4880\n",
            "Epoch 8/10\n",
            "32/32 [==============================] - 0s 3ms/step - loss: 0.6943 - accuracy: 0.5080\n",
            "Epoch 9/10\n",
            "32/32 [==============================] - 0s 3ms/step - loss: 0.6938 - accuracy: 0.5060\n",
            "Epoch 10/10\n",
            "32/32 [==============================] - 0s 3ms/step - loss: 0.6934 - accuracy: 0.5030\n",
            "32/32 [==============================] - 0s 2ms/step - loss: 0.6921 - accuracy: 0.5220\n",
            "0.5220000147819519\n"
          ]
        }
      ]
    }
  ]
}